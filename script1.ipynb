{
 "cells": [
  {
   "cell_type": "markdown",
   "id": "9d7c59b8",
   "metadata": {},
   "source": [
    "\n",
    "<h1>Excercice 01 <h1>"
   ]
  },
  {
   "cell_type": "code",
   "execution_count": 1,
   "id": "e3c2db01",
   "metadata": {},
   "outputs": [],
   "source": [
    "import folium\n",
    "import pandas as pd \n",
    "import shapely\n",
    "import geopandas as gpd \n",
    "from folium.plugins import Draw\n",
    "import osmnx  as ox\n",
    "import matplotlib.pyplot as plt\n"
   ]
  },
  {
   "cell_type": "code",
   "execution_count": 2,
   "id": "39399326",
   "metadata": {},
   "outputs": [],
   "source": [
    "#importer des données et fusion des couches avec geopandas\n",
    "laos=gpd.read_file('./data/laos.geojson')\n",
    "vietnam=gpd.read_file('./data/vietnam.geojson')\n",
    "combodge=gpd.read_file('./data/cambodge.geojson')\n",
    "\n",
    "limite_jointe = gpd.GeoDataFrame(pd.concat([combodge, laos, vietnam], ignore_index=True), crs=combodge.crs)\n",
    "\n",
    "\n",
    "#jointure des différentes couches. \n",
    "join_layer = gpd.GeoDataFrame(pd.concat([combodge, laos, vietnam], ignore_index=True), crs=combodge.crs)\n",
    "\n",
    "\n",
    "#Routes\n",
    "routesVietnam=gpd.read_file('./data/reseaux_routiers_vietnam.geojson')\n",
    "routesLaos=gpd.read_file('./data/reseaux_routiers_laos.geojson')\n",
    "routesCambodge=gpd.read_file('./data/reseaux_routiers_cambodge.geojson')\n",
    "\n",
    "#Rivieres\n",
    "riviereVietnam=gpd.read_file('./data/rivieres_vietnam.geojson')\n",
    "riviereLaos=gpd.read_file('./data/rivieres_laos.geojson')\n",
    "riviereCambodge=gpd.read_file('./data/rivieres_cambodge.geojson')\n",
    "\n",
    "#Villes\n",
    "villeVietnam=gpd.read_file('./data/villes_vietnam.geojson')\n",
    "villeLaos=gpd.read_file('./data/villes_laos.geojson')\n",
    "villeCambodge=gpd.read_file('./data/villes_cambodge.geojson')\n",
    "\n",
    "\n",
    "#fusion des données \n",
    "routes_layer = gpd.GeoDataFrame(pd.concat([routesVietnam, routesLaos, routesCambodge], ignore_index=True), crs=combodge.crs)\n",
    "riviere_layer = gpd.GeoDataFrame(pd.concat([riviereVietnam, riviereLaos, riviereCambodge], ignore_index=True), crs=combodge.crs)\n",
    "villes_layer = gpd.GeoDataFrame(pd.concat([villeVietnam, villeLaos, villeCambodge], ignore_index=True), crs=combodge.crs)\n",
    "\n",
    "\n",
    "\n",
    "\n",
    "\n"
   ]
  },
  {
   "cell_type": "markdown",
   "id": "3101567c",
   "metadata": {},
   "source": [
    "<h1> Carte Folium<h1>"
   ]
  },
  {
   "cell_type": "code",
   "execution_count": 3,
   "id": "4542a67f-dd2e-491b-8b10-bc060c112ed7",
   "metadata": {},
   "outputs": [],
   "source": [
    "fond_carte = r'OpenStreetMap'\n",
    "map_1 = folium.Map(location=[10.46078, 105.60127],\n",
    "                            zoom_start=5,\n",
    "                            tiles=fond_carte, attr= \"basemap.cartocdn\", name='Fond de Carte')\n",
    "\n",
    "couche_jointe = folium.GeoJson(limite_jointe,\n",
    "                      name= \"limites administratives\",\n",
    "                      style_function= lambda x : {\n",
    "                      'weight' : '2',\n",
    "                                }\n",
    "                      ).add_to(map_1)\n",
    "\n",
    "\n",
    "\n",
    "\n",
    "folium.GeoJson(routes_layer,\n",
    "               name ='Routes',\n",
    "            style_function=lambda feature: {\n",
    "            'fillColor': 'dark',\n",
    "            'color': 'white',\n",
    "            'weight': 0.5,\n",
    "            'dashArray': '3',\n",
    "        }  \n",
    "              ).add_to(map_1)\n",
    "\n",
    "\n",
    "folium.GeoJson(riviere_layer,\n",
    "               name ='Rivières',\n",
    "            style_function=lambda feature: {\n",
    "            'fillColor': 'dark',\n",
    "            'color': 'aqua',\n",
    "            'weight': 0.5,\n",
    "            'dashArray': '3',\n",
    "            } ).add_to(map_1)\n",
    "\n",
    "folium.GeoJson(villes_layer,\n",
    "               name ='Villes',\n",
    "               marker = folium.CircleMarker(color='green',radius=0.5),\n",
    "               overlay=True,\n",
    "               control=True,\n",
    "              ).add_to(map_1)\n",
    "\n",
    "\n",
    "folium.TileLayer('Stamen Terrain').add_to(map_1)\n",
    "folium.TileLayer('Stamen Toner').add_to(map_1)\n",
    "draw = Draw(export=True).add_to(map_1)\n",
    "folium.plugins.MeasureControl(primary_length_unit='meters', secondary_length_unit='miles', primary_area_unit='sqmeters', secondary_area_unit='acres').add_to(map_1)\n",
    "folium.LayerControl(position='bottomright', collapsed=False, autoZIndex=True).add_to(map_1)\n",
    "\n",
    "\n",
    "map_1.save(\"./maps/carteVietnamLaosCombodg.html\")"
   ]
  },
  {
   "cell_type": "code",
   "execution_count": null,
   "id": "0a3bc312",
   "metadata": {},
   "outputs": [],
   "source": []
  }
 ],
 "metadata": {
  "kernelspec": {
   "display_name": "Python 3 (ipykernel)",
   "language": "python",
   "name": "python3"
  },
  "language_info": {
   "codemirror_mode": {
    "name": "ipython",
    "version": 3
   },
   "file_extension": ".py",
   "mimetype": "text/x-python",
   "name": "python",
   "nbconvert_exporter": "python",
   "pygments_lexer": "ipython3",
   "version": "3.9.7"
  }
 },
 "nbformat": 4,
 "nbformat_minor": 5
}
